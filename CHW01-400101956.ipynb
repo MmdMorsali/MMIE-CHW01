{
  "cells": [
    {
      "attachments": {},
      "cell_type": "markdown",
      "metadata": {
        "id": "6DjNbXa-VC9M"
      },
      "source": [
        "<h1 align=\"center\">Mathematical Methods In Engineering - 25872</h1>\n",
        "<h4 align=\"center\">Dr. Amiri</h4>\n",
        "<h4 align=\"center\">Sharif University of Technology, Fall 2023</h4>\n",
        "<h4 align=\"center\">Python Assignment 1</h4>\n",
        "<h4 align=\"center\">feel free to ask your questions via telegram,\n",
        "\n",
        "questions 1,4 : @BeNameBalasari and questions 2,3,5 : @maahmoradi"
      ]
    },
    {
      "attachments": {},
      "cell_type": "markdown",
      "metadata": {},
      "source": [
        "You should write your code in the <font color='green'>Code Cell</font> and then run the <font color='green'>Evaluation Cell</font> to check the output of your code.<br>\n",
        "<font color='red'>**Please do not edit the existing codes.**</font>"
      ]
    },
    {
      "attachments": {},
      "cell_type": "markdown",
      "metadata": {
        "id": "bggG3YqIVC9U"
      },
      "source": [
        "## 1. Introduction to matrices\n",
        "In this question, we want to get familiar with performing simple matrix operations and obtaining special features of matrices in Python <br>\n",
        "#### 1-1-  Vector P-Norm\n",
        " Let $p\\geq 1$  be  a real   number . The  p-norm ( also called \n",
        "$\\ell ^{p}$-norm) of  vector \n",
        "${\\displaystyle \\mathbf {x} =(x_{1},\\ldots ,x_{n})}$  is : \n",
        "${\\displaystyle \\|\\mathbf {x} \\|_{p}:=\\left(\\sum _{i=1}^{n}\\left|x_{i}\\right|^{p}\\right)^{1/p}}$ and\n",
        "${\\displaystyle \\|\\mathbf {x} \\|_{\\infty}:=max(|x_1| , |x_2| , \\cdots ,|x_n|)}$ \n",
        "> Write a function that takes a vector and p as input and gives p-norm as output then use it to calculate the norm-3 of the  following vector ( if the p is np.inf the function should give the infinity norm of the matrix ) :\n",
        "$$\n",
        "x = \\left(\\begin{array}{cc} \n",
        "-3.0\\\\ 1.0 \\\\2.0\n",
        "\\end{array}\\right)\n",
        "$$\n",
        "> then use np.linalg.norm to check your answer "
      ]
    },
    {
      "cell_type": "markdown",
      "metadata": {},
      "source": [
        "<h1>\n",
        "<div style=\"text-align: right\">\n",
        "  <span style='font-family:vazirmatn,Baghdad,Tahoma'>  \n",
        "  محمد مرسلی - 400101956\n",
        "  \n",
        "   </span>\n",
        " </div> </h1>"
      ]
    },
    {
      "cell_type": "markdown",
      "metadata": {},
      "source": [
        "<h4>\n",
        "<div style=\"text-align: right\">\n",
        "  <span style='font-family:vazirmatn,Baghdad,Tahoma'>  \n",
        "  توجه شود که برای کد ها کامنت گذاری مناسب انجام شده است\n",
        "   </span>\n",
        " </div> </h4>"
      ]
    },
    {
      "cell_type": "markdown",
      "metadata": {},
      "source": [
        "<h5>\n",
        "<div> <p dir=\"rtl\" style=\"text-align: right\">\n",
        "  <span style='font-family:vazirmatn'> \n",
        "      .در ابتدا پکیج های خود را ایمپورت می کنیم\n",
        " </span>\n",
        "\n",
        "</p> </div></h5>"
      ]
    },
    {
      "cell_type": "code",
      "execution_count": 2,
      "metadata": {},
      "outputs": [],
      "source": [
        "# import required packages\n",
        "import numpy as np\n",
        "import pandas as pd\n",
        "import matplotlib.pyplot as plt\n",
        "import seaborn as sns\n",
        "import math"
      ]
    },
    {
      "cell_type": "code",
      "execution_count": 4,
      "metadata": {
        "id": "ZzFnxtOIVC9W"
      },
      "outputs": [
        {
          "name": "stdout",
          "output_type": "stream",
          "text": [
            "3.3019272488946263\n",
            "3.3019272488946263\n"
          ]
        }
      ],
      "source": [
        "# Code cell\n",
        "def pnorm(x, p):\n",
        "    # Check if p is infinity, and return the maximum absolute value of x\n",
        "    if p == np.inf:\n",
        "        return np.max(x)\n",
        "    \n",
        "    # If p is not infinity, calculate the p-norm of the vector x\n",
        "    # using the formula: (|x1|^p + |x2|^p + ... + |xn|^p)^(1/p)\n",
        "    Sig = list(map(lambda x: np.abs(x)**p, x))\n",
        "    # Calculate the sum of absolute values raised to the power of p, and then take the p-th root\n",
        "    return np.sum(Sig)**(1/p)\n",
        "\n",
        "# Example usage\n",
        "x = np.array([-3, 1, 2])\n",
        "\n",
        "# Print the result of the custom p-norm function for p=3\n",
        "print(pnorm(x, 3))\n",
        "\n",
        "# Print the result of the NumPy built-in p-norm function for p=3\n",
        "print(np.linalg.norm(x, 3))\n"
      ]
    },
    {
      "cell_type": "markdown",
      "metadata": {},
      "source": [
        "<h5>\n",
        "<div style=\"text-align: right\">\n",
        "  <span style='font-family:vazirmatn,Baghdad,Tahoma'>  \n",
        "  \n",
        "  با توجه به نتایج بالا متوجه شدیم که مقادیر نرم ما با استفاده از دستور آماده کتابخانه پاندا متوجه شدیم که مقادیر بالا با دقت خوبی مشابه با یکدیگر است.\n",
        "   </span>\n",
        " </div> </h5>"
      ]
    },
    {
      "cell_type": "markdown",
      "metadata": {},
      "source": []
    },
    {
      "attachments": {},
      "cell_type": "markdown",
      "metadata": {},
      "source": [
        "#### 1-2- Matrix Norm\n",
        " The \n",
        " operator  norm of matrix $ \\mathbf{A}  $ is : \n",
        "${\\displaystyle \\|\\mathbf {A} \\|:=\\max\\limits_{x\\neq 0}\\left(\\frac{||Ax||}{||x||}\\right)}$\n",
        "\n",
        "and  The Frobenius  norm  is defined  so \n",
        "that   for  every  square  matrix $ \\mathbf{A} $ : ${\\displaystyle \\|\\mathbf {A} \\|_F:=\\left(\\sum_{i,j=1}^{n}(|a_{ij}|^2)\\right)^\\frac{1}{2}}$\n",
        "\n",
        "> Write a function that takes a Matrix  as input and gives frobenius norm as output then use it to calculate the norm of the  following Matrix :\n",
        "$$\n",
        "A = \\begin{bmatrix}\n",
        "    7 & 5 & 1\\\\\n",
        "    1 & 7 & 1\\\\\n",
        "    5 & 5 & 7\n",
        "\\end{bmatrix}\n",
        "$$\n",
        "> then use np.linalg.norm to check your answer and use it to calculate the operator norm of A "
      ]
    },
    {
      "cell_type": "code",
      "execution_count": 5,
      "metadata": {},
      "outputs": [
        {
          "name": "stdout",
          "output_type": "stream",
          "text": [
            "15.0\n",
            "15.0\n"
          ]
        }
      ],
      "source": [
        "# Code cell\n",
        "def fnorm(A):\n",
        "    # Calculate the Frobenius norm of matrix A using the formula:\n",
        "    # sqrt(|a11|^2 + |a12|^2 + ... + |anm|^2)\n",
        "    Sig = list(map(lambda x: np.abs(x)**2, A))\n",
        "    # Calculate the square root of the sum of squared absolute values\n",
        "    return np.sum(Sig)**(1/2)\n",
        "\n",
        "# Example usage\n",
        "A = np.array([[7, 5, 1], [1, 7, 1], [5, 5, 7]])\n",
        "\n",
        "# Print the result of the custom Frobenius norm function\n",
        "print(fnorm(A))\n",
        "\n",
        "# Print the result of the NumPy built-in Frobenius norm function\n",
        "print(np.linalg.norm(A))\n"
      ]
    },
    {
      "cell_type": "markdown",
      "metadata": {},
      "source": [
        "<h5>\n",
        "<div style=\"text-align: right\">\n",
        "  <span style='font-family:vazirmatn,Baghdad,Tahoma'>  \n",
        "  \n",
        "  توجه شود که از توابع تک خطی لامبدا برای افزایش سرعت به جای فور استفاده کردیم.\n",
        "  واضح است که مقادیر نرم به صورت دستی و تابع آماده با هم برابر درآمد.\n",
        "   </span>\n",
        " </div> </h5>"
      ]
    },
    {
      "attachments": {},
      "cell_type": "markdown",
      "metadata": {},
      "source": [
        "#### 1-3- Matrix Determinant And Matrix inverse \n",
        "Laplace expansion expresses the determinant of a matrix \n",
        "A recursively in terms of determinants of smaller matrices, known as its minors. The minor \n",
        ", $M_{i,j}$ is defined to be the determinant of the \n",
        "${\\displaystyle (n-1)\\times (n-1)}$ matrix that results from \n",
        "A by removing the \n",
        "i-th row and the \n",
        "j-th column. The expression \n",
        "${\\displaystyle (-1)^{i+j}M_{i,j}}$  is known as a cofactor. For every \n",
        "i, one has the equality :\n",
        "$$\n",
        "det(\\mathbf{A})=\\sum_{j=1}^n\\left((-1)^{i+j}a_{ij}M_{ij}\\right)\n",
        "$$\n",
        "> Write a function that takes a Matrix  as input and gives Determinant as output then use it to calculate the Determinant of the  following Matrix :\n",
        "$$\n",
        "A = \\begin{bmatrix}\n",
        "    7 & 5 & 1\\\\\n",
        "    1 & 7 & 1\\\\\n",
        "    5 & 5 & 7\n",
        "\\end{bmatrix}\n",
        "$$\n",
        "> then use np.linalg.det to check your answer "
      ]
    },
    {
      "cell_type": "code",
      "execution_count": 6,
      "metadata": {},
      "outputs": [
        {
          "name": "stdout",
          "output_type": "stream",
          "text": [
            "268.0\n",
            "267.99999999999994\n"
          ]
        }
      ],
      "source": [
        "# Function to calculate the minor of a matrix by removing a specified row and column\n",
        "def minor(A, i, j):\n",
        "    # Get the dimensions of the matrix A\n",
        "    row, col = A.shape\n",
        "    # Create a new matrix B with one less row and one less column\n",
        "    B = np.zeros((row - 1, col - 1))\n",
        "    # Copy elements from A to B, excluding the specified row and column\n",
        "    B[:i, :j] = A[:i, :j].copy()\n",
        "    B[i:, :j] = A[i + 1:, :j].copy()\n",
        "    B[:i, j:] = A[:i, j + 1:].copy()\n",
        "    B[i:, j:] = A[i + 1:, j + 1:].copy()\n",
        "\n",
        "    return B\n",
        "\n",
        "# Function to calculate the determinant of a matrix using recursion\n",
        "def det(A):\n",
        "    # Get the size of the matrix A\n",
        "    n = len(A)\n",
        "    # Initialize the determinant to 0\n",
        "    ans = 0\n",
        "\n",
        "    # Base case: If the matrix is 2x2, directly calculate the determinant\n",
        "    if n == 2:\n",
        "        ans = A[0][0] * A[1][1] - A[0][1] * A[1][0]\n",
        "        return ans\n",
        "    else:\n",
        "        # Recursive case: Expand the determinant along the first row\n",
        "        for i in range(n):\n",
        "            ans += ((-1)**i) * A[0][i] * det(minor(A, 0, i))\n",
        "\n",
        "    return ans\n",
        "\n",
        "# Example usage\n",
        "A = np.array([[7, 5, 1], [1, 7, 1], [5, 5, 7]])\n",
        "\n",
        "# Print the result of the custom determinant function\n",
        "print(det(A))\n",
        "\n",
        "# Print the result of the NumPy built-in determinant function\n",
        "print(np.linalg.det(A))\n"
      ]
    },
    {
      "cell_type": "markdown",
      "metadata": {},
      "source": [
        "<h5>\n",
        "<div style=\"text-align: right\">\n",
        "  <span style='font-family:vazirmatn,Baghdad,Tahoma'>  \n",
        "  متوجه می شویم که محاسبه دترمینان ماتریس به صورت دستی با مقدار محاسبه مستقیم برابر است.\n",
        "   </span>\n",
        " </div> </h5>"
      ]
    },
    {
      "attachments": {},
      "cell_type": "markdown",
      "metadata": {},
      "source": [
        "The inverse of a Matrix is defined as : \n",
        "$$\n",
        "\\mathbf{A}^{-1}=\\frac{adj(A)}{det(A)}\n",
        "$$\n",
        "The adjugate of $\\mathbf{A} \\ adj(\\mathbf{A})$ is the transpose of $\\mathbf{C}$, that is, the n × n matrix whose (i, j) entry is the (j, i) cofactor of A,\n",
        "$$\n",
        "adj(\\mathbf{A})=\\mathbf{C}^T=\\left((-1)^{i+j}M_{ji}\\right)_{1 \\leq i,j \\leq n}\n",
        "$$\n",
        "> Write a function that takes a Matrix  as input and gives inverse of Matrix as output then use it to calculate the inverse of the  following Matrix :\n",
        "$$\n",
        "A = \\begin{bmatrix}\n",
        "    7 & 5 & 1\\\\\n",
        "    1 & 7 & 1\\\\\n",
        "    5 & 5 & 7\n",
        "\\end{bmatrix}\n",
        "$$\n",
        "> then use np.linalg.inv to check your answer "
      ]
    },
    {
      "cell_type": "code",
      "execution_count": 7,
      "metadata": {},
      "outputs": [
        {
          "name": "stdout",
          "output_type": "stream",
          "text": [
            "[[0.16417910447761194, -0.11194029850746269, -0.007462686567164179], [-0.007462686567164179, 0.16417910447761194, -0.022388059701492536], [-0.11194029850746269, -0.03731343283582089, 0.16417910447761194]]\n",
            "[[ 0.1641791  -0.1119403  -0.00746269]\n",
            " [-0.00746269  0.1641791  -0.02238806]\n",
            " [-0.1119403  -0.03731343  0.1641791 ]]\n"
          ]
        }
      ],
      "source": [
        "# Function to calculate the inverse of a matrix\n",
        "def inv(A):\n",
        "    # Get the size of the matrix A\n",
        "    n = len(A)\n",
        "    # Initialize a list to store cofactors\n",
        "    cofactor = []\n",
        "    # Calculate the determinant of the matrix A\n",
        "    determinant = det(A)\n",
        "    \n",
        "    # Calculate the cofactors for each element of the matrix\n",
        "    for i in range(n):\n",
        "        temp = []\n",
        "        for j in range(n):\n",
        "            # Calculate the cofactor using the formula: (-1)^(i+j) * det(minor(A, i, j))\n",
        "            temp.append(((-1)**(i+j)) * det(minor(A, i, j)))\n",
        "        cofactor.append(temp)\n",
        "    \n",
        "    # Calculate the inverse matrix by dividing each cofactor by the determinant of A\n",
        "    ans = [[cofactor[j][i] / determinant for j in range(n)] for i in range(n)]\n",
        "\n",
        "    return ans\n",
        "\n",
        "# Example usage\n",
        "A = np.array([[7, 5, 1], [1, 7, 1], [5, 5, 7]])\n",
        "\n",
        "# Print the result of the custom inverse function\n",
        "print(inv(A))\n",
        "\n",
        "# Print the result of the NumPy built-in inverse function\n",
        "print(np.linalg.inv(A))\n"
      ]
    },
    {
      "cell_type": "markdown",
      "metadata": {},
      "source": [
        "<h5>\n",
        "<div style=\"text-align: right\">\n",
        "  <span style='font-family:vazirmatn,Baghdad,Tahoma'>  \n",
        "  متوجه می شویم که محاسبه معکوس ماتریس به صورت دستی با مقدار محاسبه مستقیم برابر است.\n",
        "   </span>\n",
        " </div> </h5>"
      ]
    },
    {
      "cell_type": "markdown",
      "metadata": {},
      "source": [
        "## 2. Gauss-Jordan elimination\n",
        "#### 2-1-  Implementation\n",
        "The Gauss-Jordan Elimination method is an algorithm to solve a linear system of equations. This method solves the system by representing it as an augmented matrix, reducing it using row operations, and expressing the system in reduced row-echelon form to find the values of the variables. \\\n",
        "The function gauss_jordan_elimination takes two arguments: the matrix A representing the coefficients of the equations, and the vector b representing the constants on the right-hand side of the equations. It sets flag to 1 and returns the solution vector x if exists, else sets flag to 0 in case of 'No Solution' or 'Infinite Solutions' and prints the corresponding case.\n",
        "\n",
        "Here's an example of a system of equations $\\textbf{Ax = b}$\n",
        "\n",
        "the inputs of the function :\n",
        "\n",
        "$$\n",
        "A = \\begin{bmatrix}\n",
        "    2  & 1  & 5 \\\\\n",
        "    4  & 4  & -4 \\\\\n",
        "    1 & 3 & 1 \n",
        "\\end{bmatrix}\n",
        "$$\n",
        "\n",
        "$$\n",
        "b = \\begin{bmatrix}\n",
        "    8  \\\\\n",
        "    4  \\\\\n",
        "    5 \n",
        "\\end{bmatrix}\n",
        "$$\n",
        "\n",
        "the corresponding output :\n",
        "\n",
        "$$\n",
        "x = \\begin{bmatrix}\n",
        "    1  \\\\\n",
        "    1  \\\\\n",
        "    1 \n",
        "\\end{bmatrix}\n",
        "$$"
      ]
    },
    {
      "cell_type": "code",
      "execution_count": 44,
      "metadata": {},
      "outputs": [],
      "source": [
        "# import required packages\n",
        "import numpy as np\n",
        "import pandas as pd\n",
        "import matplotlib.pyplot as plt\n",
        "import seaborn as sns\n",
        "import math\n",
        "import time"
      ]
    },
    {
      "cell_type": "code",
      "execution_count": 97,
      "metadata": {},
      "outputs": [
        {
          "name": "stdout",
          "output_type": "stream",
          "text": [
            "([1.0, 1.0, 1.0], 1)\n"
          ]
        }
      ],
      "source": [
        "def gauss_jordan_elimination(A, b):\n",
        "    # Get the number of rows in matrix A\n",
        "    n = len(A)\n",
        "    # Initialize the solution vector\n",
        "    x = []\n",
        "    # Create an augmented matrix [A | b]\n",
        "    Aprime = [[A[i][j] for j in range(n)] + [b[i]] for i in range(n)]\n",
        "    # Initialize a flag for solution existence\n",
        "    flag = 1\n",
        "\n",
        "    # Forward elimination phase\n",
        "    for i in range(n):\n",
        "        # Check if the diagonal element is zero, and perform row permutation if needed\n",
        "        if Aprime[i][i] == 0:\n",
        "            Aprime = permutation(Aprime, i)\n",
        "\n",
        "        # Eliminate non-zero elements below the diagonal\n",
        "        for j in range(i + 1, n):\n",
        "            if Aprime[j][i] != 0:\n",
        "                Aprime = elimination(Aprime, j, i)\n",
        "\n",
        "    # Check if the last element of the augmented matrix is zero\n",
        "    if Aprime[n - 1][n - 1] == 0:\n",
        "        flag = 0\n",
        "\n",
        "        # Check for infinite solutions or no solution\n",
        "        if abs(Aprime[n - 1][n]) < 1e-7:\n",
        "            print(\"Infinite Solutions\")\n",
        "        else:\n",
        "            print(\"No Solution\")\n",
        "\n",
        "        return x, flag\n",
        "    else:\n",
        "        # Backward elimination phase\n",
        "        for j in reversed(range(n)):\n",
        "            for i in reversed(range(j)):\n",
        "                if Aprime[i][j] != 0:\n",
        "                    Aprime = elimination(Aprime, i, j)\n",
        "\n",
        "        # Normalize the rows to obtain the solution vector\n",
        "        for i in range(n):\n",
        "            Aprime = normalize(Aprime, i)\n",
        "            x.append(Aprime[i][n])\n",
        "\n",
        "    return x, flag\n",
        "\n",
        "\n",
        "def normalize(A, pp):\n",
        "    # Normalize the pivot row by dividing by the pivot element\n",
        "    if A[pp][pp] != 1:\n",
        "        q00 = A[pp][pp]\n",
        "\n",
        "        for j in range(len(A[0])):\n",
        "            A[pp][j] /= q00\n",
        "\n",
        "    return A\n",
        "\n",
        "\n",
        "def elimination(A, i, j):\n",
        "    # Perform row operations to eliminate elements below the pivot\n",
        "    pivot = A[j][j]\n",
        "    if A[i][j] != 0:\n",
        "        mult = A[i][j] / pivot\n",
        "\n",
        "        for c in range(len(A[0])):\n",
        "            A[i][c] -= mult * A[j][c]\n",
        "            # Set very small values to zero for numerical stability\n",
        "            if abs(A[i][c]) < 1e-7:\n",
        "                A[i][c] = 0.0\n",
        "\n",
        "    return A\n",
        "\n",
        "\n",
        "def permutation(A, i):\n",
        "    # Swap rows to bring a non-zero element to the pivot position\n",
        "    x = A.copy()\n",
        "    for j in range(i + 1, len(A)):\n",
        "        if A[j][i] != 0:\n",
        "            x[i], x[j] = A[j], A[i]\n",
        "            break\n",
        "    return x\n",
        "\n",
        "\n",
        "# Example usage\n",
        "x = [[2, 1, 5], [4, 4, -4], [1, 3, 1]]\n",
        "b = [8, 4, 5]\n",
        "\n",
        "# Print the result of the Gauss-Jordan elimination\n",
        "print(gauss_jordan_elimination(x, b))\n"
      ]
    },
    {
      "cell_type": "markdown",
      "metadata": {},
      "source": [
        "<h5>\n",
        "<div style=\"text-align: right\">\n",
        "  <span style='font-family:vazirmatn,Baghdad,Tahoma'>  \n",
        "  \n",
        "  مانند مراحل گفته شده در جزوه صرفا مراحل کم کردن و جایگشت و پرمایش را برای حل گاوس جردن انجام می دهیم.\n",
        "   </span>\n",
        " </div> </h5>"
      ]
    },
    {
      "cell_type": "code",
      "execution_count": 48,
      "metadata": {},
      "outputs": [
        {
          "name": "stdout",
          "output_type": "stream",
          "text": [
            "status: successful, time elapsed: 0.0 seconds\n",
            "No Solution\n",
            "status: successful, time elapsed: 0.0 seconds\n"
          ]
        }
      ],
      "source": [
        "# Evaluation Cell\n",
        "n = 10\n",
        "A = np.zeros((10,10))\n",
        "b = np.random.randint(100, size=(10))\n",
        "while np.linalg.matrix_rank(A) != n: \n",
        "  A = np.random.randint(0,100,(n, n))\n",
        "s = time.time()\n",
        "elapsed = time.time() - s\n",
        "x, flag = gauss_jordan_elimination(A,b)\n",
        "assert flag == 1, \"flag's not set correctly\"\n",
        "assert np.linalg.norm(A @ x - b) < 1e-7, \"Ax = b is not satisfied\"\n",
        "print(f'status: successful, time elapsed: {np.round(elapsed, 5)} seconds')\n",
        "b = np.random.randint(100, size=(10))\n",
        "A = np.random.randint(0, 100, (n, n))\n",
        "U, S, V = np.linalg.svd(A)\n",
        "r = 9  \n",
        "S[r:] = 0 \n",
        "A = U.dot(np.diag(S)).dot(V)\n",
        "b = np.random.randint(100, size=(10))\n",
        "s = time.time()\n",
        "elapsed = time.time() - s\n",
        "x, flag = gauss_jordan_elimination(A,b)\n",
        "assert flag == 0, \"flag's not set correctly\"\n",
        "print(f'status: successful, time elapsed: {np.round(elapsed, 5)} seconds')"
      ]
    },
    {
      "cell_type": "markdown",
      "metadata": {},
      "source": [
        "## 3. Statistics on random matrices\n",
        "\n",
        "On average, a random matrix is invertible. But what if the random matrix has entries that are either 0 or 1 with equal probability? What is the probability that a 5 by 5 matrix whose entries are all zeros or ones is singular? And what is the average number of pivot columns? That is what you will find out in this exercise.\n",
        "\n",
        "Create random integer matrices whose entries are either 0 or 1. To find the number of pivot columns of a matrix A, complete the function getrank below.\n"
      ]
    },
    {
      "cell_type": "code",
      "execution_count": 34,
      "metadata": {},
      "outputs": [],
      "source": [
        "# Code cell\n",
        "def getrank(A):\n",
        "    # Get the number of rows and columns in the matrix A\n",
        "    rows, cols = A.shape\n",
        "    # Convert matrix A to float64 for numerical stability\n",
        "    A = A.astype('float64')\n",
        "    # Initialize the rank of the matrix\n",
        "    rank = 0\n",
        "\n",
        "    # Iterate over each column\n",
        "    for j in range(cols):\n",
        "        # Initialize variables for pivot element and finding a non-zero element\n",
        "        pivot = 0\n",
        "        found = False\n",
        "        pivot_row = 0\n",
        "\n",
        "        # Iterate over each row starting from the current rank\n",
        "        for i in range(rank, rows):\n",
        "            # Check if the element is non-zero\n",
        "            if abs(A[i, j]) > 1e-7:\n",
        "                # Set the pivot element and update variables\n",
        "                pivot = A[i, j]\n",
        "                found = True\n",
        "                pivot_row = i\n",
        "                # Increment the rank and break the loop\n",
        "                rank += 1\n",
        "                break\n",
        "\n",
        "        # Check if a non-zero element is found in the current column\n",
        "        if found:\n",
        "            # Eliminate non-zero elements below the pivot\n",
        "            for i in range(pivot_row + 1, rows):\n",
        "                A[i, :] = A[i, :] + (-A[i, j] / pivot) * A[pivot_row, :]\n",
        "\n",
        "            # Swap the pivot row with the current rank-1 row\n",
        "            A[[pivot_row, rank - 1]] = A[[rank - 1, pivot_row]]\n",
        "\n",
        "    # Return the rank of the matrix\n",
        "    return rank\n"
      ]
    },
    {
      "cell_type": "markdown",
      "metadata": {},
      "source": [
        "<h5>\n",
        "<div style=\"text-align: right\">\n",
        "  <span style='font-family:vazirmatn,Baghdad,Tahoma'>  \n",
        "  \n",
        "  ابتدا تابع پیدا کردن رنک ماتریس را پر می کنیم که خروجی آن رنک ماتریس مورد نظر است\n",
        "   </span>\n",
        " </div> </h5>"
      ]
    },
    {
      "cell_type": "code",
      "execution_count": 35,
      "metadata": {},
      "outputs": [
        {
          "name": "stdout",
          "output_type": "stream",
          "text": [
            "[average, probability of singularity] is: (4.3, 0.6)\n"
          ]
        }
      ],
      "source": [
        "# Code cell\n",
        "num = 100000  # Number of random trials\n",
        "n = 5  # Size of the matrix\n",
        "\n",
        "# (avg number of pivots, probability of being singular)\n",
        "# in the format [a.b, c.d] where you rounded the answer to one decimal place.\n",
        "\n",
        "# Import necessary libraries\n",
        "import numpy as np\n",
        "\n",
        "# Define a function to calculate the average number of pivots and the probability of singularity\n",
        "def avr(num, n):\n",
        "    # Initialize an empty list to store the number of pivots for each trial\n",
        "    pivots = []\n",
        "    # Initialize a counter for singular matrices\n",
        "    singular = 0\n",
        "\n",
        "    # Perform random trials\n",
        "    for i in range(num):\n",
        "        # Generate a random binary matrix of size (n x n)\n",
        "        A = np.random.randint(2, size=(n, n))\n",
        "        # Calculate the rank of the matrix using the provided function\n",
        "        rank = getrank(A)\n",
        "        # Assert that the rank matches the rank calculated using NumPy's matrix_rank function\n",
        "        assert rank == np.linalg.matrix_rank(A)\n",
        "        # Append the number of pivots to the list\n",
        "        pivots.append(rank)\n",
        "        # Increment the singular counter if the matrix is singular (rank < n)\n",
        "        if rank < n:\n",
        "            singular += 1\n",
        "\n",
        "    # Calculate the average number of pivots rounded to one decimal place\n",
        "    avg_pivots = round(np.mean(pivots), 1)\n",
        "    # Calculate the probability of singularity rounded to one decimal place\n",
        "    prob_singular = round(singular / num, 1)\n",
        "\n",
        "    # Return a tuple containing the average number of pivots and the probability of singularity\n",
        "    return (avg_pivots, prob_singular)\n",
        "\n",
        "# Print the result in the specified format\n",
        "print(\"[average, probability of singularity] is:\", avr(num, n))\n"
      ]
    },
    {
      "cell_type": "code",
      "execution_count": 36,
      "metadata": {},
      "outputs": [
        {
          "name": "stdout",
          "output_type": "stream",
          "text": [
            "[average , probability of singularity] is : (9.7, 0.3)\n"
          ]
        }
      ],
      "source": [
        "# Code cell\n",
        "\n",
        "num = 100000;  # Number of random trials \n",
        "n = 10  # Size of matrix\n",
        "\n",
        "\n",
        "# (avg number of pivots, probability of being singular)\n",
        "# in the format [a.b,c.d] where you rounded the answer to one decimal place.\n",
        "\n",
        "# write your code here\n",
        "print(\"[average , probability of singularity] is :\",avr(num,n))"
      ]
    },
    {
      "cell_type": "markdown",
      "metadata": {},
      "source": [
        "We've looked at random matrices whose entries are 0 or 1. But how does size effect the rank and the probability of being singular? Repeat the previous exercise for 10 by 10 matrices with entries that are 0 or 1.\n",
        "\n",
        "Explore and plot the probability of singularity and the average number of pivots for different sizes of random matrices. Can you determine how this probability depends on the size of the matrix? You might try to find the probability of a 10 by 10 random matrix with entries 0 or 1 has rank 10, 9, 8, 7 etc. You can check your probabilities against the expected value to see if your probabilities match your observations. You might try to connect these probabilities with determinant formulas to see if you can predict the numbers from other formulas and prove a relationship. Happy explorations!\n",
        "\n",
        " guess what happens as $n \\rightarrow \\infty $\n",
        ", but only run up to 80"
      ]
    },
    {
      "cell_type": "code",
      "execution_count": 42,
      "metadata": {},
      "outputs": [
        {
          "data": {
            "image/png": "[encoded data removed]",
            "text/plain": [
              "<Figure size 1500x500 with 2 Axes>"
            ]
          },
          "metadata": {},
          "output_type": "display_data"
        }
      ],
      "source": [
        "# Code cell\n",
        "\n",
        "# Matrix sizes to be tested\n",
        "nvalues = [5, 10, 20, 40, 80]\n",
        "\n",
        "# Number of random matrices generated for each size\n",
        "num = 500\n",
        "\n",
        "# Lists to store results\n",
        "pivots = []  # List to store average number of pivots\n",
        "prob = []    # List to store probability of singularity\n",
        "\n",
        "for n in nvalues:\n",
        "    # Call the function 'avr' (assuming it's defined elsewhere) to get average pivots and probability\n",
        "    sing = avr(num, n)\n",
        "    \n",
        "    # Append results to respective lists\n",
        "    pivots.append(sing[0])\n",
        "    prob.append(sing[1])\n",
        "\n",
        "# Create subplots for side-by-side visualization\n",
        "_, axes = plt.subplots(1, 2, figsize=(15, 5))\n",
        "\n",
        "# Plot average number of pivots\n",
        "axes[0].plot(nvalues, pivots, marker='*')\n",
        "axes[0].set_xlabel('Matrix Size')\n",
        "axes[0].set_ylabel('Average Pivots')\n",
        "\n",
        "# Plot probability of singularity\n",
        "axes[1].plot(nvalues, prob, marker='*')\n",
        "axes[1].set_xlabel('Matrix Size')\n",
        "axes[1].set_ylabel('Probability of Singularity')\n",
        "\n",
        "# Display the plots\n",
        "plt.show()\n"
      ]
    },
    {
      "cell_type": "markdown",
      "metadata": {},
      "source": [
        "## 4. Application of Cholesky decomposition\n",
        "#### 4-1-  Cholesky decomposition\n",
        "In linear algebra, LU decomposition factors a matrix ($\\textbf{A} :n \\times n$) as the product of a lower triangular matrix ($\\textbf{L} :n \\times n$) and an upper triangular matrix ($\\textbf{U} :n \\times n$). The product sometimes includes a permutation matrix ($\\textbf{P} :n \\times n$) as well.\n",
        "$$ \\textbf{PA} = \\textbf{LU} $$\n",
        "We know that the elements on the main diagonal of the $\\textbf{U}$ are the pivots. So $\\textbf{U}$ can be decomposed into a diagonal matrix ($\\textbf{D} :n \\times n$) with elements whose pivots are on the main diagonal and a normalized $\\textbf{U}$ matrix.\n",
        "$$ \\textbf{PA} = \\textbf{LDU}  $$\n",
        "if the A is symmetric then we have the Cholesky decomposition :\n",
        "$$\n",
        "\\mathbf{A}^T=\\mathbf{A} \\longrightarrow \\mathbf{A} =LD^\\frac{1}{2}D^\\frac{1}{2} L^T= (LD^\\frac{1}{2})(LD^\\frac{1}{2})^T=L'{L'} ^T\n",
        "$$\n",
        "There are various methods for calculating the Cholesky decomposition one of them is $\\bold{Cholesky–Banachiewicz}$ algorithm :\n",
        "$$\n",
        "A=LL^T=\\begin{bmatrix}\n",
        "    L_{11}& 0 & 0\\\\\n",
        "    L_{21} & L_{22} & 0\\\\\n",
        "    L_{31}  & L_{32}  & L_{33} \n",
        "\\end{bmatrix}\\begin{bmatrix}\n",
        "    L_{11}  & L_{21}  & L_{31} \\\\\n",
        "    0  & L_{22}  & L_{32} \\\\\n",
        "    0 & 0 & L_{33} \n",
        "\\end{bmatrix}=\\begin{bmatrix}\n",
        "    L_{11}^2  &   & (symmetric) \\\\\n",
        "    L_{21}L_{11}  & L_{21}^2+L_{22}^2  &  \\\\\n",
        "    L_{31}L_{11}& L_{31}L_{21}+L_{32}L_{22}& L_{33}^2+L_{32}^2+L_{31}^2 \n",
        "\\end{bmatrix}\n",
        "$$\n",
        "\n",
        "and therefore the following formulas for the entries of L:\n",
        "\n",
        "$$\n",
        "L_{jj}=\\sqrt{A_{jj}-\\sum_{k=1}^{j-1}L_{jk}^2} \\\\\n",
        "\\\\\n",
        "L_{i,j}=\\frac{\\left(A_{ij}-\\sum_{k=1}^{j-1}L_{jk}L_{ik}\\right)}{L_{jj}} \\  \\ for \\ \\ i>j\n",
        "$$\n",
        "\n",
        "> Use this algorithm to write a function that takes a matrix and gives its cholesky decomposition. also print the output for the following matrix :\n",
        "$$\n",
        "\\mathbf{C}=\n",
        "\\begin{bmatrix}\n",
        "    1 & 0.7 \\\\\n",
        "    0.7 & 1\n",
        "\\end{bmatrix}\n",
        "$$ \n",
        "\n",
        "\n",
        "> then use np.linalg.cholesky to check your answer "
      ]
    },
    {
      "cell_type": "code",
      "execution_count": 11,
      "metadata": {},
      "outputs": [
        {
          "name": "stdout",
          "output_type": "stream",
          "text": [
            "[[1.         0.        ]\n",
            " [0.7        0.71414284]]\n",
            "[[1.         0.        ]\n",
            " [0.7        0.71414284]]\n"
          ]
        }
      ],
      "source": [
        "import numpy as np\n",
        "\n",
        "def cholesky_decomposition(A):\n",
        "    # Ensure A is a NumPy array\n",
        "    A = np.array(A)\n",
        "\n",
        "    # Get the size of the matrix A\n",
        "    n = A.shape[0]\n",
        "\n",
        "    # Initialize the lower triangular matrix L\n",
        "    L = np.zeros((n, n))\n",
        "\n",
        "    # Perform Cholesky decomposition\n",
        "    for i in range(n):\n",
        "        for j in range(i + 1):\n",
        "            # Compute the sum over k for the Cholesky decomposition\n",
        "            s = np.sum(L[i, :j] * L[j, :j])\n",
        "\n",
        "            # Update L matrix based on Cholesky decomposition formula\n",
        "            if i == j:\n",
        "                L[i, i] = np.sqrt(A[i, i] - s)\n",
        "            else:\n",
        "                L[i, j] = (1.0 / L[j, j]) * (A[i, j] - s)\n",
        "\n",
        "    # Return the lower triangular matrix L\n",
        "    return L\n",
        "\n",
        "\n",
        "A = [[1 , 0.7] , [0.7 ,1]]\n",
        "print(cholesky_decomposition(A))\n",
        "print(np.linalg.cholesky(A))"
      ]
    },
    {
      "cell_type": "markdown",
      "metadata": {},
      "source": [
        "<h5>\n",
        "<div style=\"text-align: right\">\n",
        "  <span style='font-family:vazirmatn,Baghdad,Tahoma'>  \n",
        "  \n",
        "  از ما خواسته شده است که تابع را به گونه ای پر کنیم که با گرفتن ماتریسی، تجزیه چالسکی آن را به دست آوریم، همان طور که مشاهده می کنیم مقداری که از تابع به دست می آید برابر با مقداری است که با استفاده از دستور مستقیم محاسبه می شود\n",
        "   </span>\n",
        " </div> </h5>"
      ]
    },
    {
      "cell_type": "markdown",
      "metadata": {},
      "source": [
        "#### 4-2-  Using Cholesky to generate correlated random numbers\n",
        "\n",
        "The co-variance Matrix of any random vector Y\n",
        " is given as $\\mathbf{E}(YY^T)$\n",
        ", where Y\n",
        " is a random column vector of size n×1\n",
        ". Now take a random vector, X\n",
        ", consisting of uncorrelated random variables with each random variable, $X_i$\n",
        ", having zero mean and unit variance 1\n",
        ". Since $X_i$\n",
        "'s are uncorrelated random variables with zero mean and unit variance, we have $\\mathbf{E}(X_i X_j^T)=δ_{ij}$\n",
        ". Hence,\n",
        "$$\n",
        "\\mathbf{E}(XX^T)=I\n",
        "$$\n",
        "To generate a random vector with a given covariance matrix $\\mathbf{C}$\n",
        ", look at the Cholesky decomposition of $C$\n",
        " i.e. $\\mathbf{C}=LL^T$\n",
        " \n",
        "Now look at the random vector $Z=LX$ :\n",
        "$$\n",
        "\\mathbf{E}(ZZ^T)=\\mathbf{E}\\left((LX)(LX)^T\\right)=L\\mathbf{E}(XX^T)L^T =LL^T=\\mathbf{C}\n",
        "$$\n",
        "Hence, the random vector $\\mathbf{Z}$\n",
        " has the desired co-variance matrix, $\\mathbf{C}$\n",
        "\n",
        " >Make the covarience matirx of $C$\n",
        "  $$\n",
        "\\mathbf{C}=\n",
        "\\begin{bmatrix}\n",
        "    1 & 0.7 \\\\\n",
        "    0.7 & 1\n",
        "\\end{bmatrix}\n",
        "$$ \n",
        "\n",
        " \n",
        " >Then we need another matrix with the desired standard deviation in the diagonal  $\\Tau$\n",
        " $$\n",
        "\\mathbf{\\Tau}=\n",
        "\\begin{bmatrix}\n",
        "    1 & 0 \\\\\n",
        "    0 & 2\n",
        "\\end{bmatrix}\n",
        "$$ \n",
        ">Then find the cholesky decomposition of $C$\n"
      ]
    },
    {
      "cell_type": "code",
      "execution_count": 29,
      "metadata": {},
      "outputs": [
        {
          "data": {
            "text/plain": [
              "array([[1.        , 0.        ],\n",
              "       [0.7       , 0.71414284]])"
            ]
          },
          "execution_count": 29,
          "metadata": {},
          "output_type": "execute_result"
        }
      ],
      "source": [
        "# Code cell\n",
        "C = np.matrix('1, 0.7; 0.7, 1')\n",
        "T = np.matrix('1, 0; 0, 2')\n",
        "L = cholesky_decomposition(C)\n",
        "L"
      ]
    },
    {
      "cell_type": "markdown",
      "metadata": {},
      "source": [
        ">Now  generate values for 2 independent random variables and put them in  2*1000 matrix $X$ (1000 samples)\n",
        "\n",
        "you can use np.random.normal ( generates iid random variables each time )"
      ]
    },
    {
      "cell_type": "code",
      "execution_count": 30,
      "metadata": {},
      "outputs": [
        {
          "data": {
            "text/plain": [
              "array([[-0.44383354,  0.75372462,  0.76813423, ...,  1.80109457,\n",
              "        -1.25545106,  0.70940799],\n",
              "       [ 0.0268233 , -0.18264921, -1.61635969, ..., -0.71711785,\n",
              "         0.03479344, -1.17774017]])"
            ]
          },
          "execution_count": 30,
          "metadata": {},
          "output_type": "execute_result"
        }
      ],
      "source": [
        "# Code cell\n",
        "X = np.random.normal(0,1,[2,1000])\n",
        "X"
      ]
    },
    {
      "cell_type": "markdown",
      "metadata": {},
      "source": [
        ">then calculate $\\mathbf{Z}=\\Tau L X$ and then plot Z[1] in base of Z[0] and X[1] in base of X[0] "
      ]
    },
    {
      "cell_type": "markdown",
      "metadata": {},
      "source": [
        "<h5>\n",
        "<div style=\"text-align: right\">\n",
        "  <span style='font-family:vazirmatn,Baghdad,Tahoma'>  \n",
        "  حال دو نمودار خود را برحسب موارد خواسته شده رسم می کنیم.\n",
        "   </span>\n",
        " </div> </h5>"
      ]
    },
    {
      "cell_type": "code",
      "execution_count": 27,
      "metadata": {},
      "outputs": [
        {
          "name": "stderr",
          "output_type": "stream",
          "text": [
            "No artists with labels found to put in legend.  Note that artists whose label start with an underscore are ignored when legend() is called with no argument.\n"
          ]
        },
        {
          "data": {
            "image/png": "[encoded data removed]",
            "text/plain": [
              "<Figure size 640x480 with 1 Axes>"
            ]
          },
          "metadata": {},
          "output_type": "display_data"
        }
      ],
      "source": [
        "import numpy as np\n",
        "import matplotlib.pyplot as plt\n",
        "\n",
        "# Assuming you have X, T, and L defined before this point\n",
        "\n",
        "# Calculate transformed points\n",
        "Z = np.array(T @ L @ X)\n",
        "\n",
        "# Scatter plot with color and labels\n",
        "plt.scatter(X[1], X[0], c='yellow', marker='.')\n",
        "#plt.scatter(Z[1], Z[0], c='red', marker='x', label='Transformed Data')\n",
        "\n",
        "# Set labels, title, and legend\n",
        "plt.xlabel(\"X[1]\")\n",
        "plt.ylabel(\"X[0]\")\n",
        "plt.title(\"X\")\n",
        "plt.legend()\n",
        "\n",
        "# Display grid and ensure equal scaling\n",
        "plt.grid()\n",
        "plt.axis('equal')\n",
        "\n",
        "# Show the plot\n",
        "plt.show()"
      ]
    },
    {
      "cell_type": "code",
      "execution_count": 28,
      "metadata": {},
      "outputs": [
        {
          "name": "stderr",
          "output_type": "stream",
          "text": [
            "No artists with labels found to put in legend.  Note that artists whose label start with an underscore are ignored when legend() is called with no argument.\n"
          ]
        },
        {
          "data": {
            "image/png": "[encoded data removed]",
            "text/plain": [
              "<Figure size 640x480 with 1 Axes>"
            ]
          },
          "metadata": {},
          "output_type": "display_data"
        }
      ],
      "source": [
        "import matplotlib.pyplot as plt\n",
        "\n",
        "# Assuming you have Z defined before this point\n",
        "\n",
        "# Scatter plot with color and style\n",
        "plt.scatter(Z[1], Z[0], c='green', marker='o', edgecolors='black',)\n",
        "\n",
        "# Set labels, title, and legend\n",
        "plt.xlabel(\"Z[1]\")\n",
        "plt.ylabel(\"Z[0]\")\n",
        "plt.title(\"Z\")\n",
        "plt.legend()\n",
        "\n",
        "# Display grid and ensure equal scaling\n",
        "plt.grid()\n",
        "plt.axis('equal')\n",
        "\n",
        "# Beautify the plot by adding a background color\n",
        "ax = plt.gca()\n",
        "ax.set_facecolor('#f0f0f0')  # Light gray background\n",
        "\n",
        "# Show the plot\n",
        "plt.show()\n"
      ]
    },
    {
      "cell_type": "markdown",
      "metadata": {},
      "source": [
        ">now  check the correlation in generated samples with using np.correlate"
      ]
    },
    {
      "cell_type": "markdown",
      "metadata": {},
      "source": [
        "<h5>\n",
        "<div style=\"text-align: right\">\n",
        "  <span style='font-family:vazirmatn,Baghdad,Tahoma'>  \n",
        "  \n",
        "  حال همبستگی نمونه های تولید شده خود را به دست می آوریم\n",
        "   </span>\n",
        " </div> </h5>"
      ]
    },
    {
      "cell_type": "code",
      "execution_count": 26,
      "metadata": {},
      "outputs": [
        {
          "name": "stdout",
          "output_type": "stream",
          "text": [
            "correlation in generated samples: [-21.94689707]\n",
            "correlation in generated samples: [1366.13450288]\n"
          ]
        }
      ],
      "source": [
        "print(\"correlation in generated samples:\",np.correlate(X[0],X[1]))\n",
        "print(\"correlation in generated samples:\",np.correlate(Z[0],Z[1]))"
      ]
    },
    {
      "cell_type": "markdown",
      "metadata": {},
      "source": [
        "## 5. Graphs (bonus)\n",
        "\n",
        "I suggest running this question's code cells in google colab to install the $\\textbf{PyGSP}$ package by  simply running the following code cell"
      ]
    },
    {
      "cell_type": "code",
      "execution_count": null,
      "metadata": {},
      "outputs": [],
      "source": [
        "!pip install pygsp"
      ]
    },
    {
      "cell_type": "markdown",
      "metadata": {},
      "source": [
        "\n",
        "<!-- ![]( graph.png) -->\n",
        "<div style=\"text-align:center\">\n",
        "    <img src=\"graph.png\" alt=\"Image\" />\n",
        "</div> \n",
        "\n",
        "\n",
        "For the directed graph above the adjacency matrix is : \n",
        "$\n",
        "A = \\begin{bmatrix}\n",
        "    0  & 1  & 1 & 0\\\\\n",
        "    -1  & 0  & 1 & 1 \\\\\n",
        "    -1 & -1 & 0 & 1 \\\\\n",
        "    0  & -1  & -1 & 0\n",
        "\\end{bmatrix}\n",
        "$ \n",
        "\n",
        "If we change the nodes numbering, the properties of the graph don't change yet the adjacency matrix changes. \n"
      ]
    },
    {
      "cell_type": "code",
      "execution_count": null,
      "metadata": {},
      "outputs": [],
      "source": [
        "# import required packages\n",
        "import numpy as np\n",
        "import matplotlib.pyplot as plt\n",
        "from pygsp import graphs, filters, plotting\n",
        "import cv2"
      ]
    },
    {
      "cell_type": "markdown",
      "metadata": {},
      "source": [
        "\n",
        "#### 5-1-  Introduction to graphs \n",
        ">construct the permutation matrix $\\textbf{P}$ by modifying the Identity matrix. then use it to number the graph's nodes in reverse order"
      ]
    },
    {
      "cell_type": "code",
      "execution_count": null,
      "metadata": {},
      "outputs": [],
      "source": [
        "# Code cell\n",
        "\n",
        "A_modified = ..."
      ]
    },
    {
      "cell_type": "code",
      "execution_count": null,
      "metadata": {},
      "outputs": [],
      "source": [
        "# Evaluation Cell\n",
        "assert A_modified == np.matrix('0 -1 -1 0; 1 0 -1 -1; 1 1 0 -1; 0 1 1 0'), \"wrong!\""
      ]
    },
    {
      "cell_type": "markdown",
      "metadata": {},
      "source": [
        "#### 5-2-  Graph image processing  \n",
        "\n",
        "Inpainting is a classical signal processing problem where we wish to fill in the missing values in a\n",
        "partially observed signal. This is here done in the context of image processing for inferring missing pixel values in\n",
        "an image. The signal in the image is considered to be the image matrix flattened while the image is modeled as a 2D grid graph.\n",
        "Inpainting for an image can be formulated as below:\n",
        "\n",
        "$$(M + \\alpha L)x = y$$\n",
        "\n",
        "where y is a partially observed graph signal (with missing values being 0), and M is a diagonal matrix that satisfies:\n",
        " $$ M(i, i)=   \\left\\{\n",
        "\\begin{array}{ll}\n",
        "      1, & if & y(i) & is & observed, \\\\\n",
        "      0, & if & y(i) & is & not & observed, \\\\\n",
        "\\end{array} \n",
        "\\right.  $$\n",
        "\n",
        "The Equation tries to find an x that nearly matches the observed values in y, and at the same time\n",
        "being smooth on the graph (the image here). The regularisation parameter α controls the trade-off between the data fidelity term and the\n",
        "smoothness prior. The solution can therefore be considered as an inpainted version of the partially observed signal."
      ]
    },
    {
      "cell_type": "markdown",
      "metadata": {},
      "source": [
        ">Use the cv2 package to load a grayscale version of the cameraman image with a relatively low resolution, 64 by 64, then display the image using matplotlib.pyplot\n",
        "\n",
        "- do not forget to convert RGB to gray to reduce the 3 color channels to one"
      ]
    },
    {
      "cell_type": "code",
      "execution_count": null,
      "metadata": {},
      "outputs": [],
      "source": [
        "# Code cell"
      ]
    },
    {
      "cell_type": "markdown",
      "metadata": {},
      "source": [
        ">Now flatten the image matrix to get the signal\\\n",
        ">Then, construct the diagonal matrix M which has its diagonal 0 except for $p = 50%$ of its elements that are randomly set to 1\\\n",
        ">At last, apply the observasion matrix M to the signal and construct y "
      ]
    },
    {
      "cell_type": "code",
      "execution_count": null,
      "metadata": {},
      "outputs": [],
      "source": [
        "# Code cell"
      ]
    },
    {
      "cell_type": "code",
      "execution_count": null,
      "metadata": {},
      "outputs": [],
      "source": [
        "# do not edit this cell \n",
        "G = graphs.Grid2d(64,64)\n",
        "L = G.L"
      ]
    },
    {
      "cell_type": "markdown",
      "metadata": {},
      "source": [
        ">To get x, apply the $\\textbf{Cholesky decomposition}$ to ( $M+\\alpha L$ ) and then solve the stated equation applying np.linalg.inv() to the two terms multiplied by x ( note that L is given by the code cell above )\n",
        "- check the soloution with \"np.linalg.solve()\""
      ]
    },
    {
      "cell_type": "code",
      "execution_count": null,
      "metadata": {},
      "outputs": [],
      "source": [
        "# Code cell"
      ]
    },
    {
      "cell_type": "markdown",
      "metadata": {},
      "source": [
        ">For values of alpha 0.001 , 0.1 , 10 and p values 50 , 75 display the original, the damaged and the Inpainted image in subplots"
      ]
    },
    {
      "cell_type": "code",
      "execution_count": null,
      "metadata": {},
      "outputs": [],
      "source": [
        "# Code cell"
      ]
    }
  ],
  "metadata": {
    "colab": {
      "provenance": []
    },
    "kernelspec": {
      "display_name": "base",
      "language": "python",
      "name": "python3"
    },
    "language_info": {
      "codemirror_mode": {
        "name": "ipython",
        "version": 3
      },
      "file_extension": ".py",
      "mimetype": "text/x-python",
      "name": "python",
      "nbconvert_exporter": "python",
      "pygments_lexer": "ipython3",
      "version": "3.12.0"
    },
    "orig_nbformat": 4,
    "vscode": {
      "interpreter": {
        "hash": "a552c2ea7a7b6736ba4a8b66efcb40eda8d77c5e9d980e5b81f29aecaaefb085"
      }
    }
  },
  "nbformat": 4,
  "nbformat_minor": 0
}
